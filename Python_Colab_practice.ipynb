{
  "nbformat": 4,
  "nbformat_minor": 0,
  "metadata": {
    "colab": {
      "provenance": [],
      "authorship_tag": "ABX9TyMXw6uq7u1hWtxVhYyfxLdq",
      "include_colab_link": true
    },
    "kernelspec": {
      "name": "python3",
      "display_name": "Python 3"
    },
    "language_info": {
      "name": "python"
    }
  },
  "cells": [
    {
      "cell_type": "markdown",
      "metadata": {
        "id": "view-in-github",
        "colab_type": "text"
      },
      "source": [
        "<a href=\"https://colab.research.google.com/github/Byomkesh07/Githubdemo/blob/main/Python_Colab_practice.ipynb\" target=\"_parent\"><img src=\"https://colab.research.google.com/assets/colab-badge.svg\" alt=\"Open In Colab\"/></a>"
      ]
    },
    {
      "cell_type": "code",
      "source": [],
      "metadata": {
        "id": "WVDQWBDCYQOh"
      },
      "execution_count": null,
      "outputs": []
    },
    {
      "cell_type": "markdown",
      "source": [
        "Practice Of google colab"
      ],
      "metadata": {
        "id": "-DEoIPtETnUS"
      }
    },
    {
      "cell_type": "markdown",
      "source": [],
      "metadata": {
        "id": "CF1zMT_hYLYa"
      }
    },
    {
      "cell_type": "markdown",
      "source": [],
      "metadata": {
        "id": "BFAe5qozYMHP"
      }
    },
    {
      "cell_type": "code",
      "execution_count": null,
      "metadata": {
        "colab": {
          "base_uri": "https://localhost:8080/"
        },
        "id": "Umg8N-VJAC0H",
        "outputId": "1017ade3-ad3f-4441-9727-5c805fdfa8f2"
      },
      "outputs": [
        {
          "output_type": "stream",
          "name": "stdout",
          "text": [
            "What is your name ? Byomkesh\n",
            "Hi Byomkesh, How are you?\n"
          ]
        }
      ],
      "source": [
        "name = input('What is your name ? ')\n",
        "print (f'Hi {name}, How are you?')"
      ]
    },
    {
      "cell_type": "code",
      "source": [
        "a = float(input('first price : ')[1:])\n",
        "b = float(input('2nd price : ')[1:])\n",
        "c = a + b\n",
        "print(f'a + b = ${c}')\n"
      ],
      "metadata": {
        "colab": {
          "base_uri": "https://localhost:8080/"
        },
        "id": "d-hGoNATXP40",
        "outputId": "2deee07a-b0a1-4050-9c93-7ddf0d940592"
      },
      "execution_count": null,
      "outputs": [
        {
          "output_type": "stream",
          "name": "stdout",
          "text": [
            "first price : $100\n",
            "2nd price : $200\n",
            "a + b = $300.0\n"
          ]
        }
      ]
    },
    {
      "cell_type": "code",
      "source": [
        "lst1 = [10,20,30,40,50]\n",
        "for i in lst1:\n",
        "  print(i)\n"
      ],
      "metadata": {
        "colab": {
          "base_uri": "https://localhost:8080/"
        },
        "id": "k1KNj90on-xB",
        "outputId": "db3fad32-c54f-44bf-e612-10d71356964b"
      },
      "execution_count": null,
      "outputs": [
        {
          "output_type": "stream",
          "name": "stdout",
          "text": [
            "10\n",
            "20\n",
            "30\n",
            "40\n",
            "50\n"
          ]
        }
      ]
    },
    {
      "cell_type": "code",
      "source": [
        "for i in range(0,len(lst1),1):\n",
        "  print(i)"
      ],
      "metadata": {
        "colab": {
          "base_uri": "https://localhost:8080/"
        },
        "id": "IQxIW8prp_o4",
        "outputId": "779166f7-9df1-464f-a814-048256b07ca2"
      },
      "execution_count": null,
      "outputs": [
        {
          "output_type": "stream",
          "name": "stdout",
          "text": [
            "0\n",
            "1\n",
            "2\n",
            "3\n",
            "4\n"
          ]
        }
      ]
    },
    {
      "cell_type": "code",
      "source": [
        "lst2 = list(range(10,20))\n",
        "for i in range(0,len(lst2),1):\n",
        "  print(lst2[i])"
      ],
      "metadata": {
        "colab": {
          "base_uri": "https://localhost:8080/"
        },
        "id": "0DIgug6IqQ_Z",
        "outputId": "ce22a787-7845-45c9-b3c7-e125ebca7a5d"
      },
      "execution_count": null,
      "outputs": [
        {
          "output_type": "stream",
          "name": "stdout",
          "text": [
            "10\n",
            "11\n",
            "12\n",
            "13\n",
            "14\n",
            "15\n",
            "16\n",
            "17\n",
            "18\n",
            "19\n"
          ]
        }
      ]
    },
    {
      "cell_type": "code",
      "source": [
        "lst2 = list(range(10,20))\n",
        "for i in range(0,len(lst2),2):\n",
        "  print(lst2[i])"
      ],
      "metadata": {
        "colab": {
          "base_uri": "https://localhost:8080/"
        },
        "id": "n36gh2ZGrBuV",
        "outputId": "db82d6dd-282b-4716-dd17-e42d6f89a799"
      },
      "execution_count": null,
      "outputs": [
        {
          "output_type": "stream",
          "name": "stdout",
          "text": [
            "10\n",
            "12\n",
            "14\n",
            "16\n",
            "18\n"
          ]
        }
      ]
    },
    {
      "cell_type": "code",
      "source": [],
      "metadata": {
        "id": "pbrUWl5Crdxx"
      },
      "execution_count": null,
      "outputs": []
    },
    {
      "cell_type": "markdown",
      "source": [],
      "metadata": {
        "id": "9tIY_8RvYWUR"
      }
    },
    {
      "cell_type": "code",
      "source": [
        "lst2 = list(range(10,20))\n",
        "for i in range(len(lst2)-1,-1,-1):\n",
        "  print(lst2[i])"
      ],
      "metadata": {
        "colab": {
          "base_uri": "https://localhost:8080/"
        },
        "id": "K2d-LLr5rUid",
        "outputId": "c139397f-b5a4-4ae8-98fd-15eaf8f3d4b4"
      },
      "execution_count": 1,
      "outputs": [
        {
          "output_type": "stream",
          "name": "stdout",
          "text": [
            "19\n",
            "18\n",
            "17\n",
            "16\n",
            "15\n",
            "14\n",
            "13\n",
            "12\n",
            "11\n",
            "10\n"
          ]
        }
      ]
    },
    {
      "cell_type": "code",
      "source": [
        "from typing import List\n",
        "lst3 = list(range(10,20,3))\n",
        "for i in range(0,len(lst3),1):\n",
        "  print(lst3[i])"
      ],
      "metadata": {
        "colab": {
          "base_uri": "https://localhost:8080/"
        },
        "id": "TTqF6QsfYk6U",
        "outputId": "ed0a8e2e-3af3-4738-a922-6c9098ea735f"
      },
      "execution_count": 2,
      "outputs": [
        {
          "output_type": "stream",
          "name": "stdout",
          "text": [
            "10\n",
            "13\n",
            "16\n",
            "19\n"
          ]
        }
      ]
    }
  ]
}